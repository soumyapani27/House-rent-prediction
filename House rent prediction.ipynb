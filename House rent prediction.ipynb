{
 "cells": [
  {
   "cell_type": "markdown",
   "id": "a9e1b188",
   "metadata": {},
   "source": [
    "# PROJECT NAME:House Rent Prediction in India\n",
    "SOURCE:https://www.kaggle.com/datasets/iamsouravbanerjee/house-rent-prediction-dataset/download?datasetVersionNumber=9\n",
    "        "
   ]
  },
  {
   "cell_type": "markdown",
   "id": "fb4d1c42",
   "metadata": {},
   "source": [
    "##### CONTEXT:"
   ]
  },
  {
   "cell_type": "markdown",
   "id": "f7f3b3ab",
   "metadata": {},
   "source": [
    "Housing in India varies from palaces of erstwhile maharajas to modern apartment buildings in big cities to tiny huts in far-flung villages. There has been tremendous growth in India's housing sector as incomes have risen. The Human Rights Measurement Initiative finds that India is doing 60.9% of what should be possible at its level of income for the right to housing.\n",
    "\n",
    "Renting, also known as hiring or letting, is an agreement where a payment is made for the temporary use of a good, service, or property owned by another. A gross lease is when the tenant pays a flat rental amount and the landlord pays for all property charges regularly incurred by the ownership. Renting can be an example of the sharing economy."
   ]
  },
  {
   "cell_type": "markdown",
   "id": "36f852d4",
   "metadata": {},
   "source": [
    "##### Dataset Glossary (Column-Wise)"
   ]
  },
  {
   "cell_type": "markdown",
   "id": "95cac996",
   "metadata": {},
   "source": [
    "1. BHK: Number of Bedrooms, Hall, Kitchen.\n",
    "2. Rent: Rent of the Houses/Apartments/Flats.\n",
    "3. Size: Size of the Houses/Apartments/Flats in Square Feet.\n",
    "4. Floor: Houses/Apartments/Flats situated in which Floor and Total Number of Floors (Example: Ground out of 2, 3 out of 5,etc.)\n",
    "5. Area Type: Size of the Houses/Apartments/Flats calculated on either Super Area or Carpet Area or Build Area.\n",
    "6. Area Locality: Locality of the Houses/Apartments/Flats.\n",
    "7. City: City where the Houses/Apartments/Flats are Located.\n",
    "8. Furnishing Status: Furnishing Status of the Houses/Apartments/Flats, either it is Furnished or Semi-Furnished or Unfurnished.\n",
    "9. Tenant Preferred: Type of Tenant Preferred by the Owner or Agent.\n",
    "10. Bathroom: Number of Bathrooms.\n",
    "11. Point of Contact: Whom should you contact for more information regarding the Houses/Apartments/Flats.\n"
   ]
  },
  {
   "cell_type": "markdown",
   "id": "c69e5a29",
   "metadata": {},
   "source": [
    "### IMPORT LIBRARIES "
   ]
  },
  {
   "cell_type": "code",
   "execution_count": 38,
   "id": "c5ae892f",
   "metadata": {},
   "outputs": [],
   "source": [
    "import numpy as np\n",
    "import pandas as pd\n",
    "import matplotlib.pyplot as plt\n",
    "import seaborn as sns"
   ]
  },
  {
   "cell_type": "markdown",
   "id": "ef7d2e50",
   "metadata": {},
   "source": [
    "### IMPORT DATASET"
   ]
  },
  {
   "cell_type": "code",
   "execution_count": 39,
   "id": "ec9438cd",
   "metadata": {
    "scrolled": true
   },
   "outputs": [
    {
     "data": {
      "text/html": [
       "<div>\n",
       "<style scoped>\n",
       "    .dataframe tbody tr th:only-of-type {\n",
       "        vertical-align: middle;\n",
       "    }\n",
       "\n",
       "    .dataframe tbody tr th {\n",
       "        vertical-align: top;\n",
       "    }\n",
       "\n",
       "    .dataframe thead th {\n",
       "        text-align: right;\n",
       "    }\n",
       "</style>\n",
       "<table border=\"1\" class=\"dataframe\">\n",
       "  <thead>\n",
       "    <tr style=\"text-align: right;\">\n",
       "      <th></th>\n",
       "      <th>Posted On</th>\n",
       "      <th>BHK</th>\n",
       "      <th>Rent</th>\n",
       "      <th>Size</th>\n",
       "      <th>Floor</th>\n",
       "      <th>Area Type</th>\n",
       "      <th>Area Locality</th>\n",
       "      <th>City</th>\n",
       "      <th>Furnishing Status</th>\n",
       "      <th>Tenant Preferred</th>\n",
       "      <th>Bathroom</th>\n",
       "      <th>Point of Contact</th>\n",
       "    </tr>\n",
       "  </thead>\n",
       "  <tbody>\n",
       "    <tr>\n",
       "      <th>0</th>\n",
       "      <td>2022-05-18</td>\n",
       "      <td>2</td>\n",
       "      <td>10000</td>\n",
       "      <td>1100</td>\n",
       "      <td>Ground out of 2</td>\n",
       "      <td>Super Area</td>\n",
       "      <td>Bandel</td>\n",
       "      <td>Kolkata</td>\n",
       "      <td>Unfurnished</td>\n",
       "      <td>Bachelors/Family</td>\n",
       "      <td>2</td>\n",
       "      <td>Contact Owner</td>\n",
       "    </tr>\n",
       "    <tr>\n",
       "      <th>1</th>\n",
       "      <td>2022-05-13</td>\n",
       "      <td>2</td>\n",
       "      <td>20000</td>\n",
       "      <td>800</td>\n",
       "      <td>1 out of 3</td>\n",
       "      <td>Super Area</td>\n",
       "      <td>Phool Bagan, Kankurgachi</td>\n",
       "      <td>Kolkata</td>\n",
       "      <td>Semi-Furnished</td>\n",
       "      <td>Bachelors/Family</td>\n",
       "      <td>1</td>\n",
       "      <td>Contact Owner</td>\n",
       "    </tr>\n",
       "    <tr>\n",
       "      <th>2</th>\n",
       "      <td>2022-05-16</td>\n",
       "      <td>2</td>\n",
       "      <td>17000</td>\n",
       "      <td>1000</td>\n",
       "      <td>1 out of 3</td>\n",
       "      <td>Super Area</td>\n",
       "      <td>Salt Lake City Sector 2</td>\n",
       "      <td>Kolkata</td>\n",
       "      <td>Semi-Furnished</td>\n",
       "      <td>Bachelors/Family</td>\n",
       "      <td>1</td>\n",
       "      <td>Contact Owner</td>\n",
       "    </tr>\n",
       "    <tr>\n",
       "      <th>3</th>\n",
       "      <td>2022-07-04</td>\n",
       "      <td>2</td>\n",
       "      <td>10000</td>\n",
       "      <td>800</td>\n",
       "      <td>1 out of 2</td>\n",
       "      <td>Super Area</td>\n",
       "      <td>Dumdum Park</td>\n",
       "      <td>Kolkata</td>\n",
       "      <td>Unfurnished</td>\n",
       "      <td>Bachelors/Family</td>\n",
       "      <td>1</td>\n",
       "      <td>Contact Owner</td>\n",
       "    </tr>\n",
       "    <tr>\n",
       "      <th>4</th>\n",
       "      <td>2022-05-09</td>\n",
       "      <td>2</td>\n",
       "      <td>7500</td>\n",
       "      <td>850</td>\n",
       "      <td>1 out of 2</td>\n",
       "      <td>Carpet Area</td>\n",
       "      <td>South Dum Dum</td>\n",
       "      <td>Kolkata</td>\n",
       "      <td>Unfurnished</td>\n",
       "      <td>Bachelors</td>\n",
       "      <td>1</td>\n",
       "      <td>Contact Owner</td>\n",
       "    </tr>\n",
       "    <tr>\n",
       "      <th>5</th>\n",
       "      <td>2022-04-29</td>\n",
       "      <td>2</td>\n",
       "      <td>7000</td>\n",
       "      <td>600</td>\n",
       "      <td>Ground out of 1</td>\n",
       "      <td>Super Area</td>\n",
       "      <td>Thakurpukur</td>\n",
       "      <td>Kolkata</td>\n",
       "      <td>Unfurnished</td>\n",
       "      <td>Bachelors/Family</td>\n",
       "      <td>2</td>\n",
       "      <td>Contact Owner</td>\n",
       "    </tr>\n",
       "    <tr>\n",
       "      <th>6</th>\n",
       "      <td>2022-06-21</td>\n",
       "      <td>2</td>\n",
       "      <td>10000</td>\n",
       "      <td>700</td>\n",
       "      <td>Ground out of 4</td>\n",
       "      <td>Super Area</td>\n",
       "      <td>Malancha</td>\n",
       "      <td>Kolkata</td>\n",
       "      <td>Unfurnished</td>\n",
       "      <td>Bachelors</td>\n",
       "      <td>2</td>\n",
       "      <td>Contact Agent</td>\n",
       "    </tr>\n",
       "    <tr>\n",
       "      <th>7</th>\n",
       "      <td>2022-06-21</td>\n",
       "      <td>1</td>\n",
       "      <td>5000</td>\n",
       "      <td>250</td>\n",
       "      <td>1 out of 2</td>\n",
       "      <td>Super Area</td>\n",
       "      <td>Malancha</td>\n",
       "      <td>Kolkata</td>\n",
       "      <td>Unfurnished</td>\n",
       "      <td>Bachelors</td>\n",
       "      <td>1</td>\n",
       "      <td>Contact Agent</td>\n",
       "    </tr>\n",
       "    <tr>\n",
       "      <th>8</th>\n",
       "      <td>2022-06-07</td>\n",
       "      <td>2</td>\n",
       "      <td>26000</td>\n",
       "      <td>800</td>\n",
       "      <td>1 out of 2</td>\n",
       "      <td>Carpet Area</td>\n",
       "      <td>Palm Avenue Kolkata, Ballygunge</td>\n",
       "      <td>Kolkata</td>\n",
       "      <td>Unfurnished</td>\n",
       "      <td>Bachelors</td>\n",
       "      <td>2</td>\n",
       "      <td>Contact Agent</td>\n",
       "    </tr>\n",
       "    <tr>\n",
       "      <th>9</th>\n",
       "      <td>2022-06-20</td>\n",
       "      <td>2</td>\n",
       "      <td>10000</td>\n",
       "      <td>1000</td>\n",
       "      <td>1 out of 3</td>\n",
       "      <td>Carpet Area</td>\n",
       "      <td>Natunhat</td>\n",
       "      <td>Kolkata</td>\n",
       "      <td>Semi-Furnished</td>\n",
       "      <td>Bachelors/Family</td>\n",
       "      <td>2</td>\n",
       "      <td>Contact Owner</td>\n",
       "    </tr>\n",
       "  </tbody>\n",
       "</table>\n",
       "</div>"
      ],
      "text/plain": [
       "    Posted On  BHK   Rent  Size            Floor    Area Type  \\\n",
       "0  2022-05-18    2  10000  1100  Ground out of 2   Super Area   \n",
       "1  2022-05-13    2  20000   800       1 out of 3   Super Area   \n",
       "2  2022-05-16    2  17000  1000       1 out of 3   Super Area   \n",
       "3  2022-07-04    2  10000   800       1 out of 2   Super Area   \n",
       "4  2022-05-09    2   7500   850       1 out of 2  Carpet Area   \n",
       "5  2022-04-29    2   7000   600  Ground out of 1   Super Area   \n",
       "6  2022-06-21    2  10000   700  Ground out of 4   Super Area   \n",
       "7  2022-06-21    1   5000   250       1 out of 2   Super Area   \n",
       "8  2022-06-07    2  26000   800       1 out of 2  Carpet Area   \n",
       "9  2022-06-20    2  10000  1000       1 out of 3  Carpet Area   \n",
       "\n",
       "                     Area Locality     City Furnishing Status  \\\n",
       "0                           Bandel  Kolkata       Unfurnished   \n",
       "1         Phool Bagan, Kankurgachi  Kolkata    Semi-Furnished   \n",
       "2          Salt Lake City Sector 2  Kolkata    Semi-Furnished   \n",
       "3                      Dumdum Park  Kolkata       Unfurnished   \n",
       "4                    South Dum Dum  Kolkata       Unfurnished   \n",
       "5                      Thakurpukur  Kolkata       Unfurnished   \n",
       "6                         Malancha  Kolkata       Unfurnished   \n",
       "7                         Malancha  Kolkata       Unfurnished   \n",
       "8  Palm Avenue Kolkata, Ballygunge  Kolkata       Unfurnished   \n",
       "9                         Natunhat  Kolkata    Semi-Furnished   \n",
       "\n",
       "   Tenant Preferred  Bathroom Point of Contact  \n",
       "0  Bachelors/Family         2    Contact Owner  \n",
       "1  Bachelors/Family         1    Contact Owner  \n",
       "2  Bachelors/Family         1    Contact Owner  \n",
       "3  Bachelors/Family         1    Contact Owner  \n",
       "4         Bachelors         1    Contact Owner  \n",
       "5  Bachelors/Family         2    Contact Owner  \n",
       "6         Bachelors         2    Contact Agent  \n",
       "7         Bachelors         1    Contact Agent  \n",
       "8         Bachelors         2    Contact Agent  \n",
       "9  Bachelors/Family         2    Contact Owner  "
      ]
     },
     "execution_count": 39,
     "metadata": {},
     "output_type": "execute_result"
    }
   ],
   "source": [
    "data=pd.read_csv(\"House_Rent_Dataset.csv\")\n",
    "data.head(10)"
   ]
  },
  {
   "cell_type": "code",
   "execution_count": 40,
   "id": "859e0ac3",
   "metadata": {},
   "outputs": [
    {
     "name": "stdout",
     "output_type": "stream",
     "text": [
      "Total numbers of rows :4746 \n",
      "Total numbers of columns: 12 \n"
     ]
    }
   ],
   "source": [
    "print(f\"Total numbers of rows :{data.shape[0]} \\nTotal numbers of columns: {data.shape[1]} \")"
   ]
  },
  {
   "cell_type": "code",
   "execution_count": 41,
   "id": "0a6d98c9",
   "metadata": {},
   "outputs": [
    {
     "name": "stdout",
     "output_type": "stream",
     "text": [
      "<class 'pandas.core.frame.DataFrame'>\n",
      "RangeIndex: 4746 entries, 0 to 4745\n",
      "Data columns (total 12 columns):\n",
      " #   Column             Non-Null Count  Dtype \n",
      "---  ------             --------------  ----- \n",
      " 0   Posted On          4746 non-null   object\n",
      " 1   BHK                4746 non-null   int64 \n",
      " 2   Rent               4746 non-null   int64 \n",
      " 3   Size               4746 non-null   int64 \n",
      " 4   Floor              4746 non-null   object\n",
      " 5   Area Type          4746 non-null   object\n",
      " 6   Area Locality      4746 non-null   object\n",
      " 7   City               4746 non-null   object\n",
      " 8   Furnishing Status  4746 non-null   object\n",
      " 9   Tenant Preferred   4746 non-null   object\n",
      " 10  Bathroom           4746 non-null   int64 \n",
      " 11  Point of Contact   4746 non-null   object\n",
      "dtypes: int64(4), object(8)\n",
      "memory usage: 445.1+ KB\n"
     ]
    }
   ],
   "source": [
    "data.info()"
   ]
  },
  {
   "cell_type": "code",
   "execution_count": 42,
   "id": "1c1b50a4",
   "metadata": {},
   "outputs": [],
   "source": [
    "data2=data.copy()"
   ]
  },
  {
   "cell_type": "markdown",
   "id": "b5ad636c",
   "metadata": {},
   "source": [
    "### DATA CLEANING"
   ]
  },
  {
   "cell_type": "markdown",
   "id": "3addeebf",
   "metadata": {},
   "source": [
    "###### 1.Missing values"
   ]
  },
  {
   "cell_type": "code",
   "execution_count": 43,
   "id": "c85b98be",
   "metadata": {
    "scrolled": true
   },
   "outputs": [
    {
     "data": {
      "text/plain": [
       "Posted On            0\n",
       "BHK                  0\n",
       "Rent                 0\n",
       "Size                 0\n",
       "Floor                0\n",
       "Area Type            0\n",
       "Area Locality        0\n",
       "City                 0\n",
       "Furnishing Status    0\n",
       "Tenant Preferred     0\n",
       "Bathroom             0\n",
       "Point of Contact     0\n",
       "dtype: int64"
      ]
     },
     "execution_count": 43,
     "metadata": {},
     "output_type": "execute_result"
    }
   ],
   "source": [
    "# checking the missing values\n",
    "data2.isnull().sum()"
   ]
  },
  {
   "cell_type": "markdown",
   "id": "abc43492",
   "metadata": {},
   "source": [
    "There is no missing values in dataset."
   ]
  },
  {
   "cell_type": "markdown",
   "id": "d87407ee",
   "metadata": {},
   "source": [
    "##### 2. Duplicate values"
   ]
  },
  {
   "cell_type": "code",
   "execution_count": 44,
   "id": "2eb48d51",
   "metadata": {},
   "outputs": [
    {
     "data": {
      "text/plain": [
       "0"
      ]
     },
     "execution_count": 44,
     "metadata": {},
     "output_type": "execute_result"
    }
   ],
   "source": [
    "#checking the duplicate values\n",
    "data2.duplicated().sum()"
   ]
  },
  {
   "cell_type": "markdown",
   "id": "fac85365",
   "metadata": {},
   "source": [
    "There is no duplicate vlues in dataset."
   ]
  },
  {
   "cell_type": "markdown",
   "id": "b834f4fa",
   "metadata": {},
   "source": [
    "###### 3.Drop the unneccesary columns\n",
    "\n",
    "Columns that don't contribute much to the analysis can be removed.\n",
    "We can drop the posted on, point of contact, area locality,Floor columns from the dataset."
   ]
  },
  {
   "cell_type": "code",
   "execution_count": 45,
   "id": "c0e9507e",
   "metadata": {},
   "outputs": [],
   "source": [
    "#droping the less valued columns\n",
    "data2=data.drop([\"Posted On\",\"Point of Contact\",\"Area Locality\",\"Floor\"],axis=1)"
   ]
  },
  {
   "cell_type": "markdown",
   "id": "6197073a",
   "metadata": {},
   "source": [
    "##### 4.Outliner removal"
   ]
  },
  {
   "cell_type": "code",
   "execution_count": 46,
   "id": "fab79877",
   "metadata": {
    "scrolled": true
   },
   "outputs": [
    {
     "data": {
      "text/plain": [
       "array([1100,  800, 1000,  850,  600,  700,  250, 1200,  400,  375,  900,\n",
       "       1286, 2000,  660,  650,  300, 1600,  355,  350,  550,  500,  630,\n",
       "        270, 1500, 1300, 1068,  150,  450,  720,  680,  950, 1800,  480,\n",
       "        435, 1450,  750,  220,   20,  200,  840,  740,  490,  751,  280,\n",
       "        120, 1220,  670,  190,  240, 2200,  685,   44, 1110,  392,  710,\n",
       "       1400,  160, 1250,  839,  230,  620, 1350,  723,  320, 2160, 1700,\n",
       "        130,  505, 4000, 1190, 1012,  812,  420, 1750,  830, 1050,  960,\n",
       "        756,  288,  986, 1330,  322, 3500,  957, 1430, 1320,  475,  780,\n",
       "        570,  460,  530,  558,  175,  425,  721, 1150, 2210,  675, 1880,\n",
       "        640, 1650,  518,  777, 2308,  890,  888,  275,  424, 2079,  586,\n",
       "        610,  488,  722,  470,  410,  540,  932,  560, 3000,  696, 2500,\n",
       "        715, 1337,  737,  760,  365, 2600, 1783,  565, 1514, 1080,  825,\n",
       "        360, 1545,  432,  695, 1095,  790,  661,  330,  925, 1105, 1460,\n",
       "        415,  585, 1755,  385,  628, 1064,  845, 1915,  807,  380,  428,\n",
       "       1550, 1454,  860,  433, 2700, 1225, 1224,  305,  690,  635, 1379,\n",
       "        390,  935,  535, 3700, 1208, 3200,  225,  463, 1900, 1325,  905,\n",
       "        455,  430,  795,  575,  656,  719, 3064, 3400,  980, 2800,  413,\n",
       "       1850, 1705, 1355,  340,  471, 1528, 1030,  985,  806,  583,  994,\n",
       "        520, 2750, 2424,  724, 1076, 2170,  485,  478,  704,  525,  755,\n",
       "        625,  370,  805,  742,  745, 1265,  325,  902, 1233, 2120, 1937,\n",
       "       5000,  596, 1950,  510, 1260,  770, 3900,  694, 3250, 1740,  472,\n",
       "        421,  515,  831,  753, 1197,  880, 1088, 2650,  975,  785, 1016,\n",
       "        444,  508,  623, 1358, 1255,  955,  870, 1691,  615,  663, 1432,\n",
       "        649,  882,  736, 1710,  555, 1065,  854,  906, 1130,  495,  407,\n",
       "       1092,  669,  725,  999, 1256,  889,  434, 1121,  937,  379,  920,\n",
       "        440,  582, 1617,  836, 2046,  730,  229,  910, 1648,  820,  771,\n",
       "       1526,  465, 1073,  310,  967, 1649, 1560, 4500, 1425, 1375, 1270,\n",
       "        265,  422,  895, 1663,  377, 2080,  965, 2100, 1380,  868,  970,\n",
       "        774, 1152,  641,  810,  875,  758, 2880, 1962,  590, 1120, 2729,\n",
       "       3354, 1040, 1403, 2608, 1045, 1021, 1280, 1680, 1155, 2900, 3150,\n",
       "        100, 1603, 1771,  773,  865, 1840, 1159,   50,  990, 1360, 1757,\n",
       "       1281, 1221,  416,  976, 1387, 1020, 1645, 3276, 1893, 1296, 4800,\n",
       "       1066, 2150, 2110, 1025, 1180,  580,  904, 1252, 2770,  144, 1005,\n",
       "       1274, 1480, 1115, 1060, 1278, 4105, 1055,  894, 2400, 2430, 1475,\n",
       "       4341,  846,  110, 5700, 1760, 3100,  775,  445, 2710, 1768,  532,\n",
       "       1465,  940, 1789, 1618, 1374, 1580, 4550, 1333, 1875, 1660, 1305,\n",
       "       1188, 2390, 1788, 1520, 1464,  180,  140,   75, 1670,   70,   60,\n",
       "        170,   48, 1901,  145,   25,  892,   80,   45, 1125,  713,   54,\n",
       "         63, 1440,   55,   68,   65, 2300,   84,   90,  512,  446,  125,\n",
       "        499,   30,  497,   95,  272, 2925,  106,   96,  545,  165, 1872,\n",
       "         40,   42, 2550, 3800, 1205,   77, 1027, 1428, 2117, 1462,  674,\n",
       "       1540,  930, 1210, 1234, 1162, 1261, 1145, 3600, 1158,  898,  717,\n",
       "       1070, 2036,  619,  115, 1725, 2064, 1557,  917,  579, 1920, 1002,\n",
       "        778, 1567, 1113, 1175, 1010,  618, 1651,  705,  901, 1340, 1246,\n",
       "       1099, 1530, 1780, 1402, 1484, 1140, 1525, 1132, 3300,  786, 1785,\n",
       "        803, 1975,  914, 1170, 1435, 1444, 1503,  966, 1062, 1015, 1570,\n",
       "       1157, 2792, 1153,  506,  749, 1107, 1235, 1415,  281, 6000,  926,\n",
       "       2280,  826,  502,  833,  809, 2240, 1424,  595, 1075, 2317, 1109,\n",
       "       1290,  939, 1610,  973, 1420,  843, 1144, 1903, 1383, 1912, 1146,\n",
       "        909,  886, 1625, 1535,  647, 1798, 2061,  919, 2395, 1815, 2290,\n",
       "       1473, 4050, 2520,  242, 1496,  878, 1956, 1955, 1090, 3133, 2050,\n",
       "       1160, 1417, 1565, 1675, 1135, 3698, 2405, 1248, 3115,  927,  562,\n",
       "       1720,  103, 8000, 1730,  133,  192, 1315, 1230, 4761, 1970, 1940,\n",
       "        167,  933, 1742, 1838, 1960, 1275, 1285, 2235, 1283, 3455, 3050,\n",
       "       7000, 1606, 2352, 2671, 1156,   67, 1492, 2990, 2780, 1685,  853,\n",
       "       2310, 1965, 1834,   10, 3789, 1422, 1124, 4200,  214,  855],\n",
       "      dtype=int64)"
      ]
     },
     "execution_count": 46,
     "metadata": {},
     "output_type": "execute_result"
    }
   ],
   "source": [
    "data2[\"Size\"].unique()"
   ]
  },
  {
   "cell_type": "markdown",
   "id": "e6ed5817",
   "metadata": {},
   "source": [
    "You can see that some values, like 10, 25, and 45, are impractical for houses of that size."
   ]
  },
  {
   "cell_type": "code",
   "execution_count": 47,
   "id": "eb4dff3f",
   "metadata": {},
   "outputs": [
    {
     "name": "stdout",
     "output_type": "stream",
     "text": [
      "10 8000\n"
     ]
    }
   ],
   "source": [
    "print(data2[\"Size\"].min(),data2[\"Size\"].max())\n"
   ]
  },
  {
   "cell_type": "code",
   "execution_count": 48,
   "id": "040c50fb",
   "metadata": {},
   "outputs": [
    {
     "data": {
      "text/html": [
       "<div>\n",
       "<style scoped>\n",
       "    .dataframe tbody tr th:only-of-type {\n",
       "        vertical-align: middle;\n",
       "    }\n",
       "\n",
       "    .dataframe tbody tr th {\n",
       "        vertical-align: top;\n",
       "    }\n",
       "\n",
       "    .dataframe thead th {\n",
       "        text-align: right;\n",
       "    }\n",
       "</style>\n",
       "<table border=\"1\" class=\"dataframe\">\n",
       "  <thead>\n",
       "    <tr style=\"text-align: right;\">\n",
       "      <th></th>\n",
       "      <th>BHK</th>\n",
       "      <th>Rent</th>\n",
       "      <th>Size</th>\n",
       "      <th>Area Type</th>\n",
       "      <th>City</th>\n",
       "      <th>Furnishing Status</th>\n",
       "      <th>Tenant Preferred</th>\n",
       "      <th>Bathroom</th>\n",
       "    </tr>\n",
       "  </thead>\n",
       "  <tbody>\n",
       "    <tr>\n",
       "      <th>4653</th>\n",
       "      <td>3</td>\n",
       "      <td>15000</td>\n",
       "      <td>10</td>\n",
       "      <td>Carpet Area</td>\n",
       "      <td>Hyderabad</td>\n",
       "      <td>Furnished</td>\n",
       "      <td>Bachelors/Family</td>\n",
       "      <td>3</td>\n",
       "    </tr>\n",
       "  </tbody>\n",
       "</table>\n",
       "</div>"
      ],
      "text/plain": [
       "      BHK   Rent  Size    Area Type       City Furnishing Status  \\\n",
       "4653    3  15000    10  Carpet Area  Hyderabad         Furnished   \n",
       "\n",
       "      Tenant Preferred  Bathroom  \n",
       "4653  Bachelors/Family         3  "
      ]
     },
     "execution_count": 48,
     "metadata": {},
     "output_type": "execute_result"
    }
   ],
   "source": [
    "data2[data2[\"Size\"]==10]"
   ]
  },
  {
   "cell_type": "markdown",
   "id": "628e0bc1",
   "metadata": {},
   "source": [
    "3 bedroom with 3 bathrooms cannot be merely 10 square feet in size.\n",
    "A unexpected error.\n",
    "Let's assume that the minimal size for a house with one bedroom and one bathroom will be 300 sqft."
   ]
  },
  {
   "cell_type": "code",
   "execution_count": 49,
   "id": "04452adc",
   "metadata": {},
   "outputs": [
    {
     "data": {
      "text/html": [
       "<div>\n",
       "<style scoped>\n",
       "    .dataframe tbody tr th:only-of-type {\n",
       "        vertical-align: middle;\n",
       "    }\n",
       "\n",
       "    .dataframe tbody tr th {\n",
       "        vertical-align: top;\n",
       "    }\n",
       "\n",
       "    .dataframe thead th {\n",
       "        text-align: right;\n",
       "    }\n",
       "</style>\n",
       "<table border=\"1\" class=\"dataframe\">\n",
       "  <thead>\n",
       "    <tr style=\"text-align: right;\">\n",
       "      <th></th>\n",
       "      <th>BHK</th>\n",
       "      <th>Rent</th>\n",
       "      <th>Size</th>\n",
       "      <th>Area Type</th>\n",
       "      <th>City</th>\n",
       "      <th>Furnishing Status</th>\n",
       "      <th>Tenant Preferred</th>\n",
       "      <th>Bathroom</th>\n",
       "    </tr>\n",
       "  </thead>\n",
       "  <tbody>\n",
       "    <tr>\n",
       "      <th>7</th>\n",
       "      <td>1</td>\n",
       "      <td>5000</td>\n",
       "      <td>250</td>\n",
       "      <td>Super Area</td>\n",
       "      <td>Kolkata</td>\n",
       "      <td>Unfurnished</td>\n",
       "      <td>Bachelors</td>\n",
       "      <td>1</td>\n",
       "    </tr>\n",
       "    <tr>\n",
       "      <th>12</th>\n",
       "      <td>1</td>\n",
       "      <td>6500</td>\n",
       "      <td>250</td>\n",
       "      <td>Carpet Area</td>\n",
       "      <td>Kolkata</td>\n",
       "      <td>Furnished</td>\n",
       "      <td>Bachelors</td>\n",
       "      <td>1</td>\n",
       "    </tr>\n",
       "    <tr>\n",
       "      <th>39</th>\n",
       "      <td>1</td>\n",
       "      <td>10000</td>\n",
       "      <td>270</td>\n",
       "      <td>Carpet Area</td>\n",
       "      <td>Kolkata</td>\n",
       "      <td>Semi-Furnished</td>\n",
       "      <td>Bachelors/Family</td>\n",
       "      <td>1</td>\n",
       "    </tr>\n",
       "    <tr>\n",
       "      <th>50</th>\n",
       "      <td>1</td>\n",
       "      <td>7500</td>\n",
       "      <td>150</td>\n",
       "      <td>Super Area</td>\n",
       "      <td>Kolkata</td>\n",
       "      <td>Furnished</td>\n",
       "      <td>Bachelors/Family</td>\n",
       "      <td>1</td>\n",
       "    </tr>\n",
       "    <tr>\n",
       "      <th>64</th>\n",
       "      <td>1</td>\n",
       "      <td>3500</td>\n",
       "      <td>250</td>\n",
       "      <td>Super Area</td>\n",
       "      <td>Kolkata</td>\n",
       "      <td>Semi-Furnished</td>\n",
       "      <td>Bachelors/Family</td>\n",
       "      <td>1</td>\n",
       "    </tr>\n",
       "    <tr>\n",
       "      <th>...</th>\n",
       "      <td>...</td>\n",
       "      <td>...</td>\n",
       "      <td>...</td>\n",
       "      <td>...</td>\n",
       "      <td>...</td>\n",
       "      <td>...</td>\n",
       "      <td>...</td>\n",
       "      <td>...</td>\n",
       "    </tr>\n",
       "    <tr>\n",
       "      <th>4653</th>\n",
       "      <td>3</td>\n",
       "      <td>15000</td>\n",
       "      <td>10</td>\n",
       "      <td>Carpet Area</td>\n",
       "      <td>Hyderabad</td>\n",
       "      <td>Furnished</td>\n",
       "      <td>Bachelors/Family</td>\n",
       "      <td>3</td>\n",
       "    </tr>\n",
       "    <tr>\n",
       "      <th>4704</th>\n",
       "      <td>1</td>\n",
       "      <td>10500</td>\n",
       "      <td>150</td>\n",
       "      <td>Carpet Area</td>\n",
       "      <td>Hyderabad</td>\n",
       "      <td>Unfurnished</td>\n",
       "      <td>Bachelors/Family</td>\n",
       "      <td>1</td>\n",
       "    </tr>\n",
       "    <tr>\n",
       "      <th>4706</th>\n",
       "      <td>1</td>\n",
       "      <td>4500</td>\n",
       "      <td>50</td>\n",
       "      <td>Super Area</td>\n",
       "      <td>Hyderabad</td>\n",
       "      <td>Unfurnished</td>\n",
       "      <td>Bachelors/Family</td>\n",
       "      <td>1</td>\n",
       "    </tr>\n",
       "    <tr>\n",
       "      <th>4721</th>\n",
       "      <td>1</td>\n",
       "      <td>5500</td>\n",
       "      <td>40</td>\n",
       "      <td>Super Area</td>\n",
       "      <td>Hyderabad</td>\n",
       "      <td>Unfurnished</td>\n",
       "      <td>Bachelors/Family</td>\n",
       "      <td>1</td>\n",
       "    </tr>\n",
       "    <tr>\n",
       "      <th>4727</th>\n",
       "      <td>3</td>\n",
       "      <td>30000</td>\n",
       "      <td>214</td>\n",
       "      <td>Super Area</td>\n",
       "      <td>Hyderabad</td>\n",
       "      <td>Furnished</td>\n",
       "      <td>Bachelors</td>\n",
       "      <td>4</td>\n",
       "    </tr>\n",
       "  </tbody>\n",
       "</table>\n",
       "<p>299 rows × 8 columns</p>\n",
       "</div>"
      ],
      "text/plain": [
       "      BHK   Rent  Size    Area Type       City Furnishing Status  \\\n",
       "7       1   5000   250   Super Area    Kolkata       Unfurnished   \n",
       "12      1   6500   250  Carpet Area    Kolkata         Furnished   \n",
       "39      1  10000   270  Carpet Area    Kolkata    Semi-Furnished   \n",
       "50      1   7500   150   Super Area    Kolkata         Furnished   \n",
       "64      1   3500   250   Super Area    Kolkata    Semi-Furnished   \n",
       "...   ...    ...   ...          ...        ...               ...   \n",
       "4653    3  15000    10  Carpet Area  Hyderabad         Furnished   \n",
       "4704    1  10500   150  Carpet Area  Hyderabad       Unfurnished   \n",
       "4706    1   4500    50   Super Area  Hyderabad       Unfurnished   \n",
       "4721    1   5500    40   Super Area  Hyderabad       Unfurnished   \n",
       "4727    3  30000   214   Super Area  Hyderabad         Furnished   \n",
       "\n",
       "      Tenant Preferred  Bathroom  \n",
       "7            Bachelors         1  \n",
       "12           Bachelors         1  \n",
       "39    Bachelors/Family         1  \n",
       "50    Bachelors/Family         1  \n",
       "64    Bachelors/Family         1  \n",
       "...                ...       ...  \n",
       "4653  Bachelors/Family         3  \n",
       "4704  Bachelors/Family         1  \n",
       "4706  Bachelors/Family         1  \n",
       "4721  Bachelors/Family         1  \n",
       "4727         Bachelors         4  \n",
       "\n",
       "[299 rows x 8 columns]"
      ]
     },
     "execution_count": 49,
     "metadata": {},
     "output_type": "execute_result"
    }
   ],
   "source": [
    "data2[data2.Size<300]"
   ]
  },
  {
   "cell_type": "markdown",
   "id": "6411ed22",
   "metadata": {},
   "source": [
    "299 rows are there where the size is less than 300. Let's get rid of this kind of data."
   ]
  },
  {
   "cell_type": "code",
   "execution_count": 50,
   "id": "5c8f2338",
   "metadata": {},
   "outputs": [
    {
     "data": {
      "text/plain": [
       "2    2265\n",
       "1    1167\n",
       "3    1098\n",
       "4     189\n",
       "5      19\n",
       "6       8\n",
       "Name: BHK, dtype: int64"
      ]
     },
     "execution_count": 50,
     "metadata": {},
     "output_type": "execute_result"
    }
   ],
   "source": [
    "data2[\"BHK\"].value_counts()"
   ]
  },
  {
   "cell_type": "code",
   "execution_count": 51,
   "id": "d366b31d",
   "metadata": {},
   "outputs": [
    {
     "data": {
      "text/plain": [
       "(4198, 8)"
      ]
     },
     "execution_count": 51,
     "metadata": {},
     "output_type": "execute_result"
    }
   ],
   "source": [
    "#droping the rows where the size of the house is less than 300\n",
    "data3=data2[~(data2.Size/data2.BHK<300)]\n",
    "data3.shape"
   ]
  },
  {
   "cell_type": "code",
   "execution_count": 52,
   "id": "7eea1397",
   "metadata": {
    "scrolled": true
   },
   "outputs": [
    {
     "data": {
      "text/html": [
       "<div>\n",
       "<style scoped>\n",
       "    .dataframe tbody tr th:only-of-type {\n",
       "        vertical-align: middle;\n",
       "    }\n",
       "\n",
       "    .dataframe tbody tr th {\n",
       "        vertical-align: top;\n",
       "    }\n",
       "\n",
       "    .dataframe thead th {\n",
       "        text-align: right;\n",
       "    }\n",
       "</style>\n",
       "<table border=\"1\" class=\"dataframe\">\n",
       "  <thead>\n",
       "    <tr style=\"text-align: right;\">\n",
       "      <th></th>\n",
       "      <th>BHK</th>\n",
       "      <th>Rent</th>\n",
       "      <th>Size</th>\n",
       "      <th>Bathroom</th>\n",
       "    </tr>\n",
       "  </thead>\n",
       "  <tbody>\n",
       "    <tr>\n",
       "      <th>count</th>\n",
       "      <td>4198.000000</td>\n",
       "      <td>4.198000e+03</td>\n",
       "      <td>4198.000000</td>\n",
       "      <td>4198.000000</td>\n",
       "    </tr>\n",
       "    <tr>\n",
       "      <th>mean</th>\n",
       "      <td>2.097427</td>\n",
       "      <td>3.731154e+04</td>\n",
       "      <td>1049.929014</td>\n",
       "      <td>2.018104</td>\n",
       "    </tr>\n",
       "    <tr>\n",
       "      <th>std</th>\n",
       "      <td>0.836838</td>\n",
       "      <td>8.233015e+04</td>\n",
       "      <td>622.912134</td>\n",
       "      <td>0.894297</td>\n",
       "    </tr>\n",
       "    <tr>\n",
       "      <th>min</th>\n",
       "      <td>1.000000</td>\n",
       "      <td>1.200000e+03</td>\n",
       "      <td>300.000000</td>\n",
       "      <td>1.000000</td>\n",
       "    </tr>\n",
       "    <tr>\n",
       "      <th>25%</th>\n",
       "      <td>2.000000</td>\n",
       "      <td>1.000000e+04</td>\n",
       "      <td>650.000000</td>\n",
       "      <td>1.000000</td>\n",
       "    </tr>\n",
       "    <tr>\n",
       "      <th>50%</th>\n",
       "      <td>2.000000</td>\n",
       "      <td>1.700000e+04</td>\n",
       "      <td>900.000000</td>\n",
       "      <td>2.000000</td>\n",
       "    </tr>\n",
       "    <tr>\n",
       "      <th>75%</th>\n",
       "      <td>3.000000</td>\n",
       "      <td>3.500000e+04</td>\n",
       "      <td>1250.000000</td>\n",
       "      <td>2.000000</td>\n",
       "    </tr>\n",
       "    <tr>\n",
       "      <th>max</th>\n",
       "      <td>6.000000</td>\n",
       "      <td>3.500000e+06</td>\n",
       "      <td>8000.000000</td>\n",
       "      <td>10.000000</td>\n",
       "    </tr>\n",
       "  </tbody>\n",
       "</table>\n",
       "</div>"
      ],
      "text/plain": [
       "               BHK          Rent         Size     Bathroom\n",
       "count  4198.000000  4.198000e+03  4198.000000  4198.000000\n",
       "mean      2.097427  3.731154e+04  1049.929014     2.018104\n",
       "std       0.836838  8.233015e+04   622.912134     0.894297\n",
       "min       1.000000  1.200000e+03   300.000000     1.000000\n",
       "25%       2.000000  1.000000e+04   650.000000     1.000000\n",
       "50%       2.000000  1.700000e+04   900.000000     2.000000\n",
       "75%       3.000000  3.500000e+04  1250.000000     2.000000\n",
       "max       6.000000  3.500000e+06  8000.000000    10.000000"
      ]
     },
     "execution_count": 52,
     "metadata": {},
     "output_type": "execute_result"
    }
   ],
   "source": [
    "data3.describe()"
   ]
  },
  {
   "cell_type": "markdown",
   "id": "6fe6741f",
   "metadata": {},
   "source": [
    "In the rent column, the mean is more than two times the minimum value, which leads to outliers in the column.\n",
    "Outliner will create problems in data modeling, so let's remove it.\n",
    "As there are different cities present in the dataset,the price will vary. So we will group the rent by cities and remove the outliers.\n",
    "\n",
    "\n",
    "To remove the outliers, we will apply the mean and standard deviation rule, i.e., every value in the data set falls between the mean and one standard deviation.\n",
    "\n",
    "\n",
    "\n",
    "\n",
    "\n"
   ]
  },
  {
   "cell_type": "code",
   "execution_count": 53,
   "id": "e1808e7e",
   "metadata": {},
   "outputs": [
    {
     "data": {
      "text/plain": [
       "(3931, 8)"
      ]
     },
     "execution_count": 53,
     "metadata": {},
     "output_type": "execute_result"
    }
   ],
   "source": [
    "def remove_outliers(data3):\n",
    "    data_out = pd.DataFrame()\n",
    "    for key, subdata in data3.groupby('City'):\n",
    "        m = np.mean(subdata.Rent)\n",
    "        st = np.std(subdata.Rent)\n",
    "        reduced_data = subdata[(subdata.Rent>(m-st)) & (subdata.Rent<=(m+st))]\n",
    "        data_out = pd.concat([data_out,reduced_data],ignore_index=True)\n",
    "    return data_out\n",
    "data4 = remove_outliers(data3)\n",
    "\n",
    "data4.shape"
   ]
  },
  {
   "cell_type": "code",
   "execution_count": 54,
   "id": "89f61fe4",
   "metadata": {},
   "outputs": [
    {
     "name": "stderr",
     "output_type": "stream",
     "text": [
      "C:\\Users\\Soumya\\anaconda3\\lib\\site-packages\\seaborn\\_decorators.py:36: FutureWarning: Pass the following variable as a keyword arg: x. From version 0.12, the only valid positional argument will be `data`, and passing other arguments without an explicit keyword will result in an error or misinterpretation.\n",
      "  warnings.warn(\n",
      "C:\\Users\\Soumya\\anaconda3\\lib\\site-packages\\seaborn\\_decorators.py:36: FutureWarning: Pass the following variable as a keyword arg: x. From version 0.12, the only valid positional argument will be `data`, and passing other arguments without an explicit keyword will result in an error or misinterpretation.\n",
      "  warnings.warn(\n"
     ]
    },
    {
     "data": {
      "text/plain": [
       "Text(0.5, 1.0, 'Boxplot of the Rent after outliner removal')"
      ]
     },
     "execution_count": 54,
     "metadata": {},
     "output_type": "execute_result"
    },
    {
     "data": {
      "image/png": "[encoded data removed]",
      "text/plain": [
       "<Figure size 1000x500 with 2 Axes>"
      ]
     },
     "metadata": {},
     "output_type": "display_data"
    }
   ],
   "source": [
    "fig, ax = plt.subplots(1, 2, figsize=(10, 5))\n",
    "sns.boxplot(data3.Rent,color=\"red\",ax= ax[0]).set(title='Boxplot of the Rent before outliner removal')\n",
    "sns.boxplot(data4.Rent,color=\"red\",ax= ax[1])\n",
    "plt.title('Boxplot of the Rent after outliner removal')"
   ]
  },
  {
   "cell_type": "markdown",
   "id": "f58da62c",
   "metadata": {},
   "source": [
    "The values are much more better than the before values"
   ]
  },
  {
   "cell_type": "code",
   "execution_count": 55,
   "id": "01725af9",
   "metadata": {},
   "outputs": [
    {
     "data": {
      "text/html": [
       "<div>\n",
       "<style scoped>\n",
       "    .dataframe tbody tr th:only-of-type {\n",
       "        vertical-align: middle;\n",
       "    }\n",
       "\n",
       "    .dataframe tbody tr th {\n",
       "        vertical-align: top;\n",
       "    }\n",
       "\n",
       "    .dataframe thead th {\n",
       "        text-align: right;\n",
       "    }\n",
       "</style>\n",
       "<table border=\"1\" class=\"dataframe\">\n",
       "  <thead>\n",
       "    <tr style=\"text-align: right;\">\n",
       "      <th></th>\n",
       "      <th>BHK</th>\n",
       "      <th>Rent</th>\n",
       "      <th>Size</th>\n",
       "      <th>Area Type</th>\n",
       "      <th>City</th>\n",
       "      <th>Furnishing Status</th>\n",
       "      <th>Tenant Preferred</th>\n",
       "      <th>Bathroom</th>\n",
       "    </tr>\n",
       "  </thead>\n",
       "  <tbody>\n",
       "    <tr>\n",
       "      <th>0</th>\n",
       "      <td>3</td>\n",
       "      <td>70000</td>\n",
       "      <td>3354</td>\n",
       "      <td>Carpet Area</td>\n",
       "      <td>Bangalore</td>\n",
       "      <td>Furnished</td>\n",
       "      <td>Bachelors/Family</td>\n",
       "      <td>3</td>\n",
       "    </tr>\n",
       "    <tr>\n",
       "      <th>1</th>\n",
       "      <td>2</td>\n",
       "      <td>10500</td>\n",
       "      <td>800</td>\n",
       "      <td>Super Area</td>\n",
       "      <td>Bangalore</td>\n",
       "      <td>Semi-Furnished</td>\n",
       "      <td>Bachelors/Family</td>\n",
       "      <td>2</td>\n",
       "    </tr>\n",
       "    <tr>\n",
       "      <th>2</th>\n",
       "      <td>2</td>\n",
       "      <td>13000</td>\n",
       "      <td>1000</td>\n",
       "      <td>Super Area</td>\n",
       "      <td>Bangalore</td>\n",
       "      <td>Semi-Furnished</td>\n",
       "      <td>Bachelors/Family</td>\n",
       "      <td>2</td>\n",
       "    </tr>\n",
       "    <tr>\n",
       "      <th>3</th>\n",
       "      <td>2</td>\n",
       "      <td>17000</td>\n",
       "      <td>1040</td>\n",
       "      <td>Super Area</td>\n",
       "      <td>Bangalore</td>\n",
       "      <td>Furnished</td>\n",
       "      <td>Bachelors/Family</td>\n",
       "      <td>2</td>\n",
       "    </tr>\n",
       "    <tr>\n",
       "      <th>4</th>\n",
       "      <td>3</td>\n",
       "      <td>21000</td>\n",
       "      <td>1403</td>\n",
       "      <td>Super Area</td>\n",
       "      <td>Bangalore</td>\n",
       "      <td>Semi-Furnished</td>\n",
       "      <td>Bachelors/Family</td>\n",
       "      <td>3</td>\n",
       "    </tr>\n",
       "    <tr>\n",
       "      <th>5</th>\n",
       "      <td>2</td>\n",
       "      <td>10000</td>\n",
       "      <td>600</td>\n",
       "      <td>Super Area</td>\n",
       "      <td>Bangalore</td>\n",
       "      <td>Furnished</td>\n",
       "      <td>Bachelors/Family</td>\n",
       "      <td>1</td>\n",
       "    </tr>\n",
       "    <tr>\n",
       "      <th>6</th>\n",
       "      <td>4</td>\n",
       "      <td>61500</td>\n",
       "      <td>2608</td>\n",
       "      <td>Carpet Area</td>\n",
       "      <td>Bangalore</td>\n",
       "      <td>Semi-Furnished</td>\n",
       "      <td>Bachelors</td>\n",
       "      <td>3</td>\n",
       "    </tr>\n",
       "    <tr>\n",
       "      <th>7</th>\n",
       "      <td>2</td>\n",
       "      <td>13000</td>\n",
       "      <td>850</td>\n",
       "      <td>Carpet Area</td>\n",
       "      <td>Bangalore</td>\n",
       "      <td>Semi-Furnished</td>\n",
       "      <td>Family</td>\n",
       "      <td>2</td>\n",
       "    </tr>\n",
       "    <tr>\n",
       "      <th>8</th>\n",
       "      <td>1</td>\n",
       "      <td>7500</td>\n",
       "      <td>400</td>\n",
       "      <td>Super Area</td>\n",
       "      <td>Bangalore</td>\n",
       "      <td>Unfurnished</td>\n",
       "      <td>Bachelors/Family</td>\n",
       "      <td>1</td>\n",
       "    </tr>\n",
       "    <tr>\n",
       "      <th>9</th>\n",
       "      <td>2</td>\n",
       "      <td>17000</td>\n",
       "      <td>1000</td>\n",
       "      <td>Super Area</td>\n",
       "      <td>Bangalore</td>\n",
       "      <td>Semi-Furnished</td>\n",
       "      <td>Bachelors/Family</td>\n",
       "      <td>2</td>\n",
       "    </tr>\n",
       "  </tbody>\n",
       "</table>\n",
       "</div>"
      ],
      "text/plain": [
       "   BHK   Rent  Size    Area Type       City Furnishing Status  \\\n",
       "0    3  70000  3354  Carpet Area  Bangalore         Furnished   \n",
       "1    2  10500   800   Super Area  Bangalore    Semi-Furnished   \n",
       "2    2  13000  1000   Super Area  Bangalore    Semi-Furnished   \n",
       "3    2  17000  1040   Super Area  Bangalore         Furnished   \n",
       "4    3  21000  1403   Super Area  Bangalore    Semi-Furnished   \n",
       "5    2  10000   600   Super Area  Bangalore         Furnished   \n",
       "6    4  61500  2608  Carpet Area  Bangalore    Semi-Furnished   \n",
       "7    2  13000   850  Carpet Area  Bangalore    Semi-Furnished   \n",
       "8    1   7500   400   Super Area  Bangalore       Unfurnished   \n",
       "9    2  17000  1000   Super Area  Bangalore    Semi-Furnished   \n",
       "\n",
       "   Tenant Preferred  Bathroom  \n",
       "0  Bachelors/Family         3  \n",
       "1  Bachelors/Family         2  \n",
       "2  Bachelors/Family         2  \n",
       "3  Bachelors/Family         2  \n",
       "4  Bachelors/Family         3  \n",
       "5  Bachelors/Family         1  \n",
       "6         Bachelors         3  \n",
       "7            Family         2  \n",
       "8  Bachelors/Family         1  \n",
       "9  Bachelors/Family         2  "
      ]
     },
     "execution_count": 55,
     "metadata": {},
     "output_type": "execute_result"
    }
   ],
   "source": [
    "data4.head(10)"
   ]
  },
  {
   "cell_type": "code",
   "execution_count": 56,
   "id": "9874baf8",
   "metadata": {},
   "outputs": [
    {
     "name": "stderr",
     "output_type": "stream",
     "text": [
      "C:\\Users\\Soumya\\anaconda3\\lib\\site-packages\\seaborn\\_decorators.py:36: FutureWarning: Pass the following variable as a keyword arg: x. From version 0.12, the only valid positional argument will be `data`, and passing other arguments without an explicit keyword will result in an error or misinterpretation.\n",
      "  warnings.warn(\n",
      "C:\\Users\\Soumya\\anaconda3\\lib\\site-packages\\seaborn\\_decorators.py:36: FutureWarning: Pass the following variable as a keyword arg: x. From version 0.12, the only valid positional argument will be `data`, and passing other arguments without an explicit keyword will result in an error or misinterpretation.\n",
      "  warnings.warn(\n"
     ]
    },
    {
     "data": {
      "text/plain": [
       "[Text(0.5, 1.0, 'Boxplot of the Bathroom column')]"
      ]
     },
     "execution_count": 56,
     "metadata": {},
     "output_type": "execute_result"
    },
    {
     "data": {
      "image/png": "[encoded data removed]",
      "text/plain": [
       "<Figure size 1000x500 with 2 Axes>"
      ]
     },
     "metadata": {},
     "output_type": "display_data"
    }
   ],
   "source": [
    "fig, ax = plt.subplots(1, 2, figsize=(10, 5))\n",
    "sns.boxplot(data4.BHK,color=\"red\",ax= ax[0]).set(title='Boxplot of the BHK column ')\n",
    "sns.boxplot(data4.Bathroom,color=\"red\",ax= ax[1]).set(title='Boxplot of the Bathroom column')"
   ]
  },
  {
   "cell_type": "markdown",
   "id": "7d5d08de",
   "metadata": {},
   "source": [
    "No outliners in BHK and Bathroom"
   ]
  },
  {
   "cell_type": "markdown",
   "id": "07ad5339",
   "metadata": {},
   "source": [
    "# Univariant analysis"
   ]
  },
  {
   "cell_type": "code",
   "execution_count": 57,
   "id": "623c79ca",
   "metadata": {},
   "outputs": [
    {
     "data": {
      "text/plain": [
       "Index(['BHK', 'Rent', 'Size', 'Area Type', 'City', 'Furnishing Status',\n",
       "       'Tenant Preferred', 'Bathroom'],\n",
       "      dtype='object')"
      ]
     },
     "execution_count": 57,
     "metadata": {},
     "output_type": "execute_result"
    }
   ],
   "source": [
    "data4.columns"
   ]
  },
  {
   "cell_type": "code",
   "execution_count": 58,
   "id": "d6ceb66a",
   "metadata": {
    "scrolled": true
   },
   "outputs": [
    {
     "name": "stderr",
     "output_type": "stream",
     "text": [
      "C:\\Users\\Soumya\\anaconda3\\lib\\site-packages\\seaborn\\_decorators.py:36: FutureWarning: Pass the following variable as a keyword arg: x. From version 0.12, the only valid positional argument will be `data`, and passing other arguments without an explicit keyword will result in an error or misinterpretation.\n",
      "  warnings.warn(\n",
      "C:\\Users\\Soumya\\anaconda3\\lib\\site-packages\\seaborn\\_decorators.py:36: FutureWarning: Pass the following variable as a keyword arg: x. From version 0.12, the only valid positional argument will be `data`, and passing other arguments without an explicit keyword will result in an error or misinterpretation.\n",
      "  warnings.warn(\n"
     ]
    },
    {
     "data": {
      "text/plain": [
       "[Text(0.5, 1.0, 'Bathroom')]"
      ]
     },
     "execution_count": 58,
     "metadata": {},
     "output_type": "execute_result"
    },
    {
     "data": {
      "image/png": "[encoded data removed]",
      "text/plain": [
       "<Figure size 1000x500 with 2 Axes>"
      ]
     },
     "metadata": {},
     "output_type": "display_data"
    }
   ],
   "source": [
    "fig, ax = plt.subplots(1, 2, figsize=(10, 5))\n",
    "sns.countplot(data4.BHK,ax= ax[0]).set(title='BHK')\n",
    "sns.countplot(data4[\"Bathroom\"],ax= ax[1]).set(title='Bathroom')\n"
   ]
  },
  {
   "cell_type": "markdown",
   "id": "39231a81",
   "metadata": {},
   "source": [
    "Most of the houses have 2 bedrooms with 2 bathrooms."
   ]
  },
  {
   "cell_type": "code",
   "execution_count": 59,
   "id": "29e57b7e",
   "metadata": {
    "scrolled": true
   },
   "outputs": [
    {
     "name": "stderr",
     "output_type": "stream",
     "text": [
      "C:\\Users\\Soumya\\anaconda3\\lib\\site-packages\\seaborn\\_decorators.py:36: FutureWarning: Pass the following variable as a keyword arg: x. From version 0.12, the only valid positional argument will be `data`, and passing other arguments without an explicit keyword will result in an error or misinterpretation.\n",
      "  warnings.warn(\n",
      "C:\\Users\\Soumya\\anaconda3\\lib\\site-packages\\seaborn\\_decorators.py:36: FutureWarning: Pass the following variable as a keyword arg: x. From version 0.12, the only valid positional argument will be `data`, and passing other arguments without an explicit keyword will result in an error or misinterpretation.\n",
      "  warnings.warn(\n"
     ]
    },
    {
     "data": {
      "text/plain": [
       "[Text(0.5, 1.0, 'City')]"
      ]
     },
     "execution_count": 59,
     "metadata": {},
     "output_type": "execute_result"
    },
    {
     "data": {
      "image/png": "[encoded data removed]",
      "text/plain": [
       "<Figure size 1000x500 with 2 Axes>"
      ]
     },
     "metadata": {},
     "output_type": "display_data"
    }
   ],
   "source": [
    "fig, ax = plt.subplots(1, 2, figsize=(10, 5))\n",
    "sns.countplot(data4[\"Area Type\"],ax= ax[0]).set(title='Area Type')\n",
    "sns.countplot(data4[\"City\"],ax= ax[1]).set(title='City')"
   ]
  },
  {
   "cell_type": "markdown",
   "id": "d64b16e4",
   "metadata": {},
   "source": [
    "Maximum house area types are given in super Area followed by carpet Area.\n",
    "Mumbai, Bangalore, and Chennai are the three most-wanted cities for renters in the dataset."
   ]
  },
  {
   "cell_type": "code",
   "execution_count": 60,
   "id": "b70024c5",
   "metadata": {},
   "outputs": [
    {
     "name": "stderr",
     "output_type": "stream",
     "text": [
      "C:\\Users\\Soumya\\anaconda3\\lib\\site-packages\\seaborn\\_decorators.py:36: FutureWarning: Pass the following variable as a keyword arg: x. From version 0.12, the only valid positional argument will be `data`, and passing other arguments without an explicit keyword will result in an error or misinterpretation.\n",
      "  warnings.warn(\n",
      "C:\\Users\\Soumya\\anaconda3\\lib\\site-packages\\seaborn\\_decorators.py:36: FutureWarning: Pass the following variable as a keyword arg: x. From version 0.12, the only valid positional argument will be `data`, and passing other arguments without an explicit keyword will result in an error or misinterpretation.\n",
      "  warnings.warn(\n"
     ]
    },
    {
     "data": {
      "text/plain": [
       "[Text(0.5, 1.0, 'Tenant Preferred')]"
      ]
     },
     "execution_count": 60,
     "metadata": {},
     "output_type": "execute_result"
    },
    {
     "data": {
      "image/png": "[encoded data removed]",
      "text/plain": [
       "<Figure size 1000x500 with 2 Axes>"
      ]
     },
     "metadata": {},
     "output_type": "display_data"
    }
   ],
   "source": [
    "fig, ax = plt.subplots(1, 2, figsize=(10, 5))\n",
    "sns.countplot(data4[\"Furnishing Status\"],ax= ax[0]).set(title='Furnishing Status')\n",
    "sns.countplot(data4[\"Tenant Preferred\"],ax= ax[1]).set(title='Tenant Preferred')"
   ]
  },
  {
   "cell_type": "markdown",
   "id": "917c6530",
   "metadata": {},
   "source": [
    "The highest number of houses are semi-furnished, and most of the house owners allow both bachelors and families."
   ]
  },
  {
   "cell_type": "markdown",
   "id": "84c52ba5",
   "metadata": {},
   "source": [
    "# Multivariant Analysis\n"
   ]
  },
  {
   "cell_type": "code",
   "execution_count": 61,
   "id": "4ab894c5",
   "metadata": {},
   "outputs": [
    {
     "data": {
      "text/plain": [
       "<AxesSubplot:xlabel='BHK', ylabel='Rent'>"
      ]
     },
     "execution_count": 61,
     "metadata": {},
     "output_type": "execute_result"
    },
    {
     "data": {
      "image/png": "[encoded data removed]",
      "text/plain": [
       "<Figure size 640x480 with 1 Axes>"
      ]
     },
     "metadata": {},
     "output_type": "display_data"
    }
   ],
   "source": [
    "#\n",
    "sns.barplot(x = data4[\"BHK\"], y = data4[\"Rent\"],hue=data4[\"City\"])"
   ]
  },
  {
   "cell_type": "code",
   "execution_count": 25,
   "id": "180da3d0",
   "metadata": {},
   "outputs": [
    {
     "data": {
      "text/plain": [
       "Index(['BHK', 'Rent', 'Size', 'Area Type', 'City', 'Furnishing Status',\n",
       "       'Tenant Preferred', 'Bathroom'],\n",
       "      dtype='object')"
      ]
     },
     "execution_count": 25,
     "metadata": {},
     "output_type": "execute_result"
    }
   ],
   "source": [
    "data4.columns"
   ]
  },
  {
   "cell_type": "code",
   "execution_count": 62,
   "id": "0120ce51",
   "metadata": {},
   "outputs": [
    {
     "data": {
      "text/plain": [
       "<AxesSubplot:xlabel='Area Type', ylabel='Rent'>"
      ]
     },
     "execution_count": 62,
     "metadata": {},
     "output_type": "execute_result"
    },
    {
     "data": {
      "image/png": "[encoded data removed]",
      "text/plain": [
       "<Figure size 640x480 with 1 Axes>"
      ]
     },
     "metadata": {},
     "output_type": "display_data"
    }
   ],
   "source": [
    "sns.barplot(x = data4[\"Area Type\"], y = data4[\"Rent\"],hue=data4[\"City\"])"
   ]
  },
  {
   "cell_type": "code",
   "execution_count": 63,
   "id": "5cff3922",
   "metadata": {},
   "outputs": [
    {
     "data": {
      "text/plain": [
       "<AxesSubplot:xlabel='Furnishing Status', ylabel='Rent'>"
      ]
     },
     "execution_count": 63,
     "metadata": {},
     "output_type": "execute_result"
    },
    {
     "data": {
      "image/png": "[encoded data removed]",
      "text/plain": [
       "<Figure size 640x480 with 1 Axes>"
      ]
     },
     "metadata": {},
     "output_type": "display_data"
    }
   ],
   "source": [
    "sns.barplot(x = data4[\"Furnishing Status\"], y = data4[\"Rent\"],hue=data4[\"City\"])"
   ]
  },
  {
   "cell_type": "code",
   "execution_count": 64,
   "id": "2802c0ff",
   "metadata": {},
   "outputs": [
    {
     "data": {
      "text/plain": [
       "<AxesSubplot:xlabel='Tenant Preferred', ylabel='Rent'>"
      ]
     },
     "execution_count": 64,
     "metadata": {},
     "output_type": "execute_result"
    },
    {
     "data": {
      "image/png": "[encoded data removed]",
      "text/plain": [
       "<Figure size 640x480 with 1 Axes>"
      ]
     },
     "metadata": {},
     "output_type": "display_data"
    }
   ],
   "source": [
    "sns.barplot(x = data4[\"Tenant Preferred\"], y = data4[\"Rent\"],hue=data4[\"City\"])"
   ]
  },
  {
   "cell_type": "markdown",
   "id": "9a2bfd77",
   "metadata": {},
   "source": [
    "From the above analysis, we can conclude that Mumbai is the most expensive city of them all."
   ]
  },
  {
   "cell_type": "code",
   "execution_count": 29,
   "id": "f335c1d5",
   "metadata": {},
   "outputs": [
    {
     "data": {
      "text/html": [
       "<div>\n",
       "<style scoped>\n",
       "    .dataframe tbody tr th:only-of-type {\n",
       "        vertical-align: middle;\n",
       "    }\n",
       "\n",
       "    .dataframe tbody tr th {\n",
       "        vertical-align: top;\n",
       "    }\n",
       "\n",
       "    .dataframe thead th {\n",
       "        text-align: right;\n",
       "    }\n",
       "</style>\n",
       "<table border=\"1\" class=\"dataframe\">\n",
       "  <thead>\n",
       "    <tr style=\"text-align: right;\">\n",
       "      <th></th>\n",
       "      <th>BHK</th>\n",
       "      <th>Rent</th>\n",
       "      <th>Size</th>\n",
       "      <th>Area Type</th>\n",
       "      <th>City</th>\n",
       "      <th>Furnishing Status</th>\n",
       "      <th>Tenant Preferred</th>\n",
       "      <th>Bathroom</th>\n",
       "    </tr>\n",
       "  </thead>\n",
       "  <tbody>\n",
       "    <tr>\n",
       "      <th>3731</th>\n",
       "      <td>3</td>\n",
       "      <td>180000</td>\n",
       "      <td>1500</td>\n",
       "      <td>Carpet Area</td>\n",
       "      <td>Mumbai</td>\n",
       "      <td>Furnished</td>\n",
       "      <td>Bachelors/Family</td>\n",
       "      <td>4</td>\n",
       "    </tr>\n",
       "    <tr>\n",
       "      <th>3661</th>\n",
       "      <td>4</td>\n",
       "      <td>180000</td>\n",
       "      <td>1691</td>\n",
       "      <td>Carpet Area</td>\n",
       "      <td>Mumbai</td>\n",
       "      <td>Semi-Furnished</td>\n",
       "      <td>Bachelors/Family</td>\n",
       "      <td>6</td>\n",
       "    </tr>\n",
       "    <tr>\n",
       "      <th>3604</th>\n",
       "      <td>3</td>\n",
       "      <td>180000</td>\n",
       "      <td>1190</td>\n",
       "      <td>Carpet Area</td>\n",
       "      <td>Mumbai</td>\n",
       "      <td>Semi-Furnished</td>\n",
       "      <td>Bachelors/Family</td>\n",
       "      <td>3</td>\n",
       "    </tr>\n",
       "    <tr>\n",
       "      <th>3427</th>\n",
       "      <td>4</td>\n",
       "      <td>180000</td>\n",
       "      <td>1750</td>\n",
       "      <td>Carpet Area</td>\n",
       "      <td>Mumbai</td>\n",
       "      <td>Semi-Furnished</td>\n",
       "      <td>Bachelors</td>\n",
       "      <td>4</td>\n",
       "    </tr>\n",
       "    <tr>\n",
       "      <th>3200</th>\n",
       "      <td>4</td>\n",
       "      <td>180000</td>\n",
       "      <td>2000</td>\n",
       "      <td>Carpet Area</td>\n",
       "      <td>Mumbai</td>\n",
       "      <td>Furnished</td>\n",
       "      <td>Bachelors/Family</td>\n",
       "      <td>5</td>\n",
       "    </tr>\n",
       "    <tr>\n",
       "      <th>3431</th>\n",
       "      <td>3</td>\n",
       "      <td>180000</td>\n",
       "      <td>1200</td>\n",
       "      <td>Carpet Area</td>\n",
       "      <td>Mumbai</td>\n",
       "      <td>Semi-Furnished</td>\n",
       "      <td>Bachelors/Family</td>\n",
       "      <td>3</td>\n",
       "    </tr>\n",
       "    <tr>\n",
       "      <th>3610</th>\n",
       "      <td>3</td>\n",
       "      <td>180000</td>\n",
       "      <td>1100</td>\n",
       "      <td>Carpet Area</td>\n",
       "      <td>Mumbai</td>\n",
       "      <td>Furnished</td>\n",
       "      <td>Family</td>\n",
       "      <td>3</td>\n",
       "    </tr>\n",
       "    <tr>\n",
       "      <th>3292</th>\n",
       "      <td>3</td>\n",
       "      <td>180000</td>\n",
       "      <td>1550</td>\n",
       "      <td>Carpet Area</td>\n",
       "      <td>Mumbai</td>\n",
       "      <td>Semi-Furnished</td>\n",
       "      <td>Bachelors/Family</td>\n",
       "      <td>3</td>\n",
       "    </tr>\n",
       "    <tr>\n",
       "      <th>3649</th>\n",
       "      <td>3</td>\n",
       "      <td>180000</td>\n",
       "      <td>1250</td>\n",
       "      <td>Carpet Area</td>\n",
       "      <td>Mumbai</td>\n",
       "      <td>Semi-Furnished</td>\n",
       "      <td>Family</td>\n",
       "      <td>3</td>\n",
       "    </tr>\n",
       "    <tr>\n",
       "      <th>3339</th>\n",
       "      <td>3</td>\n",
       "      <td>180000</td>\n",
       "      <td>1600</td>\n",
       "      <td>Carpet Area</td>\n",
       "      <td>Mumbai</td>\n",
       "      <td>Semi-Furnished</td>\n",
       "      <td>Bachelors/Family</td>\n",
       "      <td>4</td>\n",
       "    </tr>\n",
       "    <tr>\n",
       "      <th>3848</th>\n",
       "      <td>2</td>\n",
       "      <td>180000</td>\n",
       "      <td>1000</td>\n",
       "      <td>Carpet Area</td>\n",
       "      <td>Mumbai</td>\n",
       "      <td>Furnished</td>\n",
       "      <td>Bachelors/Family</td>\n",
       "      <td>2</td>\n",
       "    </tr>\n",
       "    <tr>\n",
       "      <th>3139</th>\n",
       "      <td>4</td>\n",
       "      <td>190000</td>\n",
       "      <td>2079</td>\n",
       "      <td>Carpet Area</td>\n",
       "      <td>Mumbai</td>\n",
       "      <td>Semi-Furnished</td>\n",
       "      <td>Bachelors/Family</td>\n",
       "      <td>5</td>\n",
       "    </tr>\n",
       "    <tr>\n",
       "      <th>3395</th>\n",
       "      <td>3</td>\n",
       "      <td>190000</td>\n",
       "      <td>1300</td>\n",
       "      <td>Carpet Area</td>\n",
       "      <td>Mumbai</td>\n",
       "      <td>Furnished</td>\n",
       "      <td>Bachelors</td>\n",
       "      <td>3</td>\n",
       "    </tr>\n",
       "    <tr>\n",
       "      <th>3842</th>\n",
       "      <td>4</td>\n",
       "      <td>190000</td>\n",
       "      <td>1750</td>\n",
       "      <td>Carpet Area</td>\n",
       "      <td>Mumbai</td>\n",
       "      <td>Semi-Furnished</td>\n",
       "      <td>Bachelors/Family</td>\n",
       "      <td>4</td>\n",
       "    </tr>\n",
       "    <tr>\n",
       "      <th>3388</th>\n",
       "      <td>3</td>\n",
       "      <td>190000</td>\n",
       "      <td>1850</td>\n",
       "      <td>Carpet Area</td>\n",
       "      <td>Mumbai</td>\n",
       "      <td>Semi-Furnished</td>\n",
       "      <td>Bachelors</td>\n",
       "      <td>4</td>\n",
       "    </tr>\n",
       "    <tr>\n",
       "      <th>3210</th>\n",
       "      <td>3</td>\n",
       "      <td>190000</td>\n",
       "      <td>1514</td>\n",
       "      <td>Carpet Area</td>\n",
       "      <td>Mumbai</td>\n",
       "      <td>Semi-Furnished</td>\n",
       "      <td>Bachelors/Family</td>\n",
       "      <td>4</td>\n",
       "    </tr>\n",
       "    <tr>\n",
       "      <th>3869</th>\n",
       "      <td>2</td>\n",
       "      <td>190000</td>\n",
       "      <td>895</td>\n",
       "      <td>Carpet Area</td>\n",
       "      <td>Mumbai</td>\n",
       "      <td>Semi-Furnished</td>\n",
       "      <td>Bachelors/Family</td>\n",
       "      <td>2</td>\n",
       "    </tr>\n",
       "    <tr>\n",
       "      <th>3517</th>\n",
       "      <td>4</td>\n",
       "      <td>190000</td>\n",
       "      <td>1950</td>\n",
       "      <td>Carpet Area</td>\n",
       "      <td>Mumbai</td>\n",
       "      <td>Unfurnished</td>\n",
       "      <td>Bachelors/Family</td>\n",
       "      <td>4</td>\n",
       "    </tr>\n",
       "    <tr>\n",
       "      <th>3331</th>\n",
       "      <td>3</td>\n",
       "      <td>190000</td>\n",
       "      <td>1350</td>\n",
       "      <td>Carpet Area</td>\n",
       "      <td>Mumbai</td>\n",
       "      <td>Semi-Furnished</td>\n",
       "      <td>Family</td>\n",
       "      <td>4</td>\n",
       "    </tr>\n",
       "    <tr>\n",
       "      <th>3523</th>\n",
       "      <td>3</td>\n",
       "      <td>190000</td>\n",
       "      <td>1500</td>\n",
       "      <td>Carpet Area</td>\n",
       "      <td>Mumbai</td>\n",
       "      <td>Semi-Furnished</td>\n",
       "      <td>Bachelors/Family</td>\n",
       "      <td>3</td>\n",
       "    </tr>\n",
       "  </tbody>\n",
       "</table>\n",
       "</div>"
      ],
      "text/plain": [
       "      BHK    Rent  Size    Area Type    City Furnishing Status  \\\n",
       "3731    3  180000  1500  Carpet Area  Mumbai         Furnished   \n",
       "3661    4  180000  1691  Carpet Area  Mumbai    Semi-Furnished   \n",
       "3604    3  180000  1190  Carpet Area  Mumbai    Semi-Furnished   \n",
       "3427    4  180000  1750  Carpet Area  Mumbai    Semi-Furnished   \n",
       "3200    4  180000  2000  Carpet Area  Mumbai         Furnished   \n",
       "3431    3  180000  1200  Carpet Area  Mumbai    Semi-Furnished   \n",
       "3610    3  180000  1100  Carpet Area  Mumbai         Furnished   \n",
       "3292    3  180000  1550  Carpet Area  Mumbai    Semi-Furnished   \n",
       "3649    3  180000  1250  Carpet Area  Mumbai    Semi-Furnished   \n",
       "3339    3  180000  1600  Carpet Area  Mumbai    Semi-Furnished   \n",
       "3848    2  180000  1000  Carpet Area  Mumbai         Furnished   \n",
       "3139    4  190000  2079  Carpet Area  Mumbai    Semi-Furnished   \n",
       "3395    3  190000  1300  Carpet Area  Mumbai         Furnished   \n",
       "3842    4  190000  1750  Carpet Area  Mumbai    Semi-Furnished   \n",
       "3388    3  190000  1850  Carpet Area  Mumbai    Semi-Furnished   \n",
       "3210    3  190000  1514  Carpet Area  Mumbai    Semi-Furnished   \n",
       "3869    2  190000   895  Carpet Area  Mumbai    Semi-Furnished   \n",
       "3517    4  190000  1950  Carpet Area  Mumbai       Unfurnished   \n",
       "3331    3  190000  1350  Carpet Area  Mumbai    Semi-Furnished   \n",
       "3523    3  190000  1500  Carpet Area  Mumbai    Semi-Furnished   \n",
       "\n",
       "      Tenant Preferred  Bathroom  \n",
       "3731  Bachelors/Family         4  \n",
       "3661  Bachelors/Family         6  \n",
       "3604  Bachelors/Family         3  \n",
       "3427         Bachelors         4  \n",
       "3200  Bachelors/Family         5  \n",
       "3431  Bachelors/Family         3  \n",
       "3610            Family         3  \n",
       "3292  Bachelors/Family         3  \n",
       "3649            Family         3  \n",
       "3339  Bachelors/Family         4  \n",
       "3848  Bachelors/Family         2  \n",
       "3139  Bachelors/Family         5  \n",
       "3395         Bachelors         3  \n",
       "3842  Bachelors/Family         4  \n",
       "3388         Bachelors         4  \n",
       "3210  Bachelors/Family         4  \n",
       "3869  Bachelors/Family         2  \n",
       "3517  Bachelors/Family         4  \n",
       "3331            Family         4  \n",
       "3523  Bachelors/Family         3  "
      ]
     },
     "execution_count": 29,
     "metadata": {},
     "output_type": "execute_result"
    }
   ],
   "source": [
    "md=data4[(data4[\"City\"]=='Mumbai')]\n",
    "md2=md.sort_values(\"Rent\")\n",
    "md2.tail(20)\n"
   ]
  },
  {
   "cell_type": "markdown",
   "id": "f21f5a89",
   "metadata": {},
   "source": [
    "# Modelling"
   ]
  },
  {
   "cell_type": "code",
   "execution_count": 66,
   "id": "6b8da927",
   "metadata": {
    "scrolled": true
   },
   "outputs": [
    {
     "data": {
      "text/html": [
       "<div>\n",
       "<style scoped>\n",
       "    .dataframe tbody tr th:only-of-type {\n",
       "        vertical-align: middle;\n",
       "    }\n",
       "\n",
       "    .dataframe tbody tr th {\n",
       "        vertical-align: top;\n",
       "    }\n",
       "\n",
       "    .dataframe thead th {\n",
       "        text-align: right;\n",
       "    }\n",
       "</style>\n",
       "<table border=\"1\" class=\"dataframe\">\n",
       "  <thead>\n",
       "    <tr style=\"text-align: right;\">\n",
       "      <th></th>\n",
       "      <th>BHK</th>\n",
       "      <th>Rent</th>\n",
       "      <th>Size</th>\n",
       "      <th>Area Type</th>\n",
       "      <th>City</th>\n",
       "      <th>Furnishing Status</th>\n",
       "      <th>Tenant Preferred</th>\n",
       "      <th>Bathroom</th>\n",
       "    </tr>\n",
       "  </thead>\n",
       "  <tbody>\n",
       "    <tr>\n",
       "      <th>0</th>\n",
       "      <td>3</td>\n",
       "      <td>70000</td>\n",
       "      <td>3354</td>\n",
       "      <td>1</td>\n",
       "      <td>0</td>\n",
       "      <td>0</td>\n",
       "      <td>1</td>\n",
       "      <td>3</td>\n",
       "    </tr>\n",
       "    <tr>\n",
       "      <th>1</th>\n",
       "      <td>2</td>\n",
       "      <td>10500</td>\n",
       "      <td>800</td>\n",
       "      <td>2</td>\n",
       "      <td>0</td>\n",
       "      <td>1</td>\n",
       "      <td>1</td>\n",
       "      <td>2</td>\n",
       "    </tr>\n",
       "    <tr>\n",
       "      <th>2</th>\n",
       "      <td>2</td>\n",
       "      <td>13000</td>\n",
       "      <td>1000</td>\n",
       "      <td>2</td>\n",
       "      <td>0</td>\n",
       "      <td>1</td>\n",
       "      <td>1</td>\n",
       "      <td>2</td>\n",
       "    </tr>\n",
       "    <tr>\n",
       "      <th>3</th>\n",
       "      <td>2</td>\n",
       "      <td>17000</td>\n",
       "      <td>1040</td>\n",
       "      <td>2</td>\n",
       "      <td>0</td>\n",
       "      <td>0</td>\n",
       "      <td>1</td>\n",
       "      <td>2</td>\n",
       "    </tr>\n",
       "    <tr>\n",
       "      <th>4</th>\n",
       "      <td>3</td>\n",
       "      <td>21000</td>\n",
       "      <td>1403</td>\n",
       "      <td>2</td>\n",
       "      <td>0</td>\n",
       "      <td>1</td>\n",
       "      <td>1</td>\n",
       "      <td>3</td>\n",
       "    </tr>\n",
       "    <tr>\n",
       "      <th>...</th>\n",
       "      <td>...</td>\n",
       "      <td>...</td>\n",
       "      <td>...</td>\n",
       "      <td>...</td>\n",
       "      <td>...</td>\n",
       "      <td>...</td>\n",
       "      <td>...</td>\n",
       "      <td>...</td>\n",
       "    </tr>\n",
       "    <tr>\n",
       "      <th>3926</th>\n",
       "      <td>2</td>\n",
       "      <td>45000</td>\n",
       "      <td>670</td>\n",
       "      <td>1</td>\n",
       "      <td>5</td>\n",
       "      <td>2</td>\n",
       "      <td>1</td>\n",
       "      <td>2</td>\n",
       "    </tr>\n",
       "    <tr>\n",
       "      <th>3927</th>\n",
       "      <td>2</td>\n",
       "      <td>65000</td>\n",
       "      <td>960</td>\n",
       "      <td>1</td>\n",
       "      <td>5</td>\n",
       "      <td>1</td>\n",
       "      <td>1</td>\n",
       "      <td>2</td>\n",
       "    </tr>\n",
       "    <tr>\n",
       "      <th>3928</th>\n",
       "      <td>2</td>\n",
       "      <td>65000</td>\n",
       "      <td>1500</td>\n",
       "      <td>2</td>\n",
       "      <td>5</td>\n",
       "      <td>1</td>\n",
       "      <td>1</td>\n",
       "      <td>3</td>\n",
       "    </tr>\n",
       "    <tr>\n",
       "      <th>3929</th>\n",
       "      <td>1</td>\n",
       "      <td>35000</td>\n",
       "      <td>500</td>\n",
       "      <td>2</td>\n",
       "      <td>5</td>\n",
       "      <td>1</td>\n",
       "      <td>1</td>\n",
       "      <td>1</td>\n",
       "    </tr>\n",
       "    <tr>\n",
       "      <th>3930</th>\n",
       "      <td>3</td>\n",
       "      <td>90000</td>\n",
       "      <td>1120</td>\n",
       "      <td>1</td>\n",
       "      <td>5</td>\n",
       "      <td>0</td>\n",
       "      <td>2</td>\n",
       "      <td>2</td>\n",
       "    </tr>\n",
       "  </tbody>\n",
       "</table>\n",
       "<p>3931 rows × 8 columns</p>\n",
       "</div>"
      ],
      "text/plain": [
       "      BHK   Rent  Size  Area Type  City  Furnishing Status  Tenant Preferred  \\\n",
       "0       3  70000  3354          1     0                  0                 1   \n",
       "1       2  10500   800          2     0                  1                 1   \n",
       "2       2  13000  1000          2     0                  1                 1   \n",
       "3       2  17000  1040          2     0                  0                 1   \n",
       "4       3  21000  1403          2     0                  1                 1   \n",
       "...   ...    ...   ...        ...   ...                ...               ...   \n",
       "3926    2  45000   670          1     5                  2                 1   \n",
       "3927    2  65000   960          1     5                  1                 1   \n",
       "3928    2  65000  1500          2     5                  1                 1   \n",
       "3929    1  35000   500          2     5                  1                 1   \n",
       "3930    3  90000  1120          1     5                  0                 2   \n",
       "\n",
       "      Bathroom  \n",
       "0            3  \n",
       "1            2  \n",
       "2            2  \n",
       "3            2  \n",
       "4            3  \n",
       "...        ...  \n",
       "3926         2  \n",
       "3927         2  \n",
       "3928         3  \n",
       "3929         1  \n",
       "3930         2  \n",
       "\n",
       "[3931 rows x 8 columns]"
      ]
     },
     "execution_count": 66,
     "metadata": {},
     "output_type": "execute_result"
    }
   ],
   "source": [
    "data5=data4.copy()\n",
    "cols = [\"Area Type\",\"City\",\"Furnishing Status\",\"Tenant Preferred\"]\n",
    "from sklearn.preprocessing import LabelEncoder\n",
    "data5[cols] = data5[cols].apply(LabelEncoder().fit_transform)\n",
    "#\n",
    "data5"
   ]
  },
  {
   "cell_type": "code",
   "execution_count": 68,
   "id": "b66a7a31",
   "metadata": {},
   "outputs": [],
   "source": [
    "#identify the dependent and independent variables\n",
    "X = data5.drop('Rent',axis=1)\n",
    "Y = data5['Rent']"
   ]
  },
  {
   "cell_type": "code",
   "execution_count": 69,
   "id": "cda54e42",
   "metadata": {},
   "outputs": [
    {
     "data": {
      "text/html": [
       "<div>\n",
       "<style scoped>\n",
       "    .dataframe tbody tr th:only-of-type {\n",
       "        vertical-align: middle;\n",
       "    }\n",
       "\n",
       "    .dataframe tbody tr th {\n",
       "        vertical-align: top;\n",
       "    }\n",
       "\n",
       "    .dataframe thead th {\n",
       "        text-align: right;\n",
       "    }\n",
       "</style>\n",
       "<table border=\"1\" class=\"dataframe\">\n",
       "  <thead>\n",
       "    <tr style=\"text-align: right;\">\n",
       "      <th></th>\n",
       "      <th>BHK</th>\n",
       "      <th>Size</th>\n",
       "      <th>Area Type</th>\n",
       "      <th>City</th>\n",
       "      <th>Furnishing Status</th>\n",
       "      <th>Tenant Preferred</th>\n",
       "      <th>Bathroom</th>\n",
       "    </tr>\n",
       "  </thead>\n",
       "  <tbody>\n",
       "    <tr>\n",
       "      <th>0</th>\n",
       "      <td>3</td>\n",
       "      <td>3354</td>\n",
       "      <td>1</td>\n",
       "      <td>0</td>\n",
       "      <td>0</td>\n",
       "      <td>1</td>\n",
       "      <td>3</td>\n",
       "    </tr>\n",
       "    <tr>\n",
       "      <th>1</th>\n",
       "      <td>2</td>\n",
       "      <td>800</td>\n",
       "      <td>2</td>\n",
       "      <td>0</td>\n",
       "      <td>1</td>\n",
       "      <td>1</td>\n",
       "      <td>2</td>\n",
       "    </tr>\n",
       "    <tr>\n",
       "      <th>2</th>\n",
       "      <td>2</td>\n",
       "      <td>1000</td>\n",
       "      <td>2</td>\n",
       "      <td>0</td>\n",
       "      <td>1</td>\n",
       "      <td>1</td>\n",
       "      <td>2</td>\n",
       "    </tr>\n",
       "    <tr>\n",
       "      <th>3</th>\n",
       "      <td>2</td>\n",
       "      <td>1040</td>\n",
       "      <td>2</td>\n",
       "      <td>0</td>\n",
       "      <td>0</td>\n",
       "      <td>1</td>\n",
       "      <td>2</td>\n",
       "    </tr>\n",
       "    <tr>\n",
       "      <th>4</th>\n",
       "      <td>3</td>\n",
       "      <td>1403</td>\n",
       "      <td>2</td>\n",
       "      <td>0</td>\n",
       "      <td>1</td>\n",
       "      <td>1</td>\n",
       "      <td>3</td>\n",
       "    </tr>\n",
       "    <tr>\n",
       "      <th>...</th>\n",
       "      <td>...</td>\n",
       "      <td>...</td>\n",
       "      <td>...</td>\n",
       "      <td>...</td>\n",
       "      <td>...</td>\n",
       "      <td>...</td>\n",
       "      <td>...</td>\n",
       "    </tr>\n",
       "    <tr>\n",
       "      <th>3926</th>\n",
       "      <td>2</td>\n",
       "      <td>670</td>\n",
       "      <td>1</td>\n",
       "      <td>5</td>\n",
       "      <td>2</td>\n",
       "      <td>1</td>\n",
       "      <td>2</td>\n",
       "    </tr>\n",
       "    <tr>\n",
       "      <th>3927</th>\n",
       "      <td>2</td>\n",
       "      <td>960</td>\n",
       "      <td>1</td>\n",
       "      <td>5</td>\n",
       "      <td>1</td>\n",
       "      <td>1</td>\n",
       "      <td>2</td>\n",
       "    </tr>\n",
       "    <tr>\n",
       "      <th>3928</th>\n",
       "      <td>2</td>\n",
       "      <td>1500</td>\n",
       "      <td>2</td>\n",
       "      <td>5</td>\n",
       "      <td>1</td>\n",
       "      <td>1</td>\n",
       "      <td>3</td>\n",
       "    </tr>\n",
       "    <tr>\n",
       "      <th>3929</th>\n",
       "      <td>1</td>\n",
       "      <td>500</td>\n",
       "      <td>2</td>\n",
       "      <td>5</td>\n",
       "      <td>1</td>\n",
       "      <td>1</td>\n",
       "      <td>1</td>\n",
       "    </tr>\n",
       "    <tr>\n",
       "      <th>3930</th>\n",
       "      <td>3</td>\n",
       "      <td>1120</td>\n",
       "      <td>1</td>\n",
       "      <td>5</td>\n",
       "      <td>0</td>\n",
       "      <td>2</td>\n",
       "      <td>2</td>\n",
       "    </tr>\n",
       "  </tbody>\n",
       "</table>\n",
       "<p>3931 rows × 7 columns</p>\n",
       "</div>"
      ],
      "text/plain": [
       "      BHK  Size  Area Type  City  Furnishing Status  Tenant Preferred  \\\n",
       "0       3  3354          1     0                  0                 1   \n",
       "1       2   800          2     0                  1                 1   \n",
       "2       2  1000          2     0                  1                 1   \n",
       "3       2  1040          2     0                  0                 1   \n",
       "4       3  1403          2     0                  1                 1   \n",
       "...   ...   ...        ...   ...                ...               ...   \n",
       "3926    2   670          1     5                  2                 1   \n",
       "3927    2   960          1     5                  1                 1   \n",
       "3928    2  1500          2     5                  1                 1   \n",
       "3929    1   500          2     5                  1                 1   \n",
       "3930    3  1120          1     5                  0                 2   \n",
       "\n",
       "      Bathroom  \n",
       "0            3  \n",
       "1            2  \n",
       "2            2  \n",
       "3            2  \n",
       "4            3  \n",
       "...        ...  \n",
       "3926         2  \n",
       "3927         2  \n",
       "3928         3  \n",
       "3929         1  \n",
       "3930         2  \n",
       "\n",
       "[3931 rows x 7 columns]"
      ]
     },
     "execution_count": 69,
     "metadata": {},
     "output_type": "execute_result"
    }
   ],
   "source": [
    "X"
   ]
  },
  {
   "cell_type": "code",
   "execution_count": 70,
   "id": "36013503",
   "metadata": {},
   "outputs": [
    {
     "data": {
      "text/plain": [
       "0       70000\n",
       "1       10500\n",
       "2       13000\n",
       "3       17000\n",
       "4       21000\n",
       "        ...  \n",
       "3926    45000\n",
       "3927    65000\n",
       "3928    65000\n",
       "3929    35000\n",
       "3930    90000\n",
       "Name: Rent, Length: 3931, dtype: int64"
      ]
     },
     "execution_count": 70,
     "metadata": {},
     "output_type": "execute_result"
    }
   ],
   "source": [
    "\n",
    "Y"
   ]
  },
  {
   "cell_type": "code",
   "execution_count": 71,
   "id": "0620a010",
   "metadata": {},
   "outputs": [],
   "source": [
    "#Split the dataset into train and test datasets\n",
    "from sklearn.model_selection import train_test_split\n",
    "X_train,X_test,Y_train,Y_test=train_test_split(X,Y,test_size=0.2,random_state=1)"
   ]
  },
  {
   "cell_type": "markdown",
   "id": "77e67a65",
   "metadata": {},
   "source": [
    "### Linear Regression model"
   ]
  },
  {
   "cell_type": "markdown",
   "id": "46ee32ef",
   "metadata": {},
   "source": [
    "##### Training the Linear Regression model on the Training set"
   ]
  },
  {
   "cell_type": "code",
   "execution_count": 72,
   "id": "476d125b",
   "metadata": {},
   "outputs": [
    {
     "data": {
      "text/plain": [
       "LinearRegression()"
      ]
     },
     "execution_count": 72,
     "metadata": {},
     "output_type": "execute_result"
    }
   ],
   "source": [
    "from sklearn.linear_model import LinearRegression\n",
    "regressorLR=LinearRegression()\n",
    "regressorLR.fit(X_train,Y_train)\n"
   ]
  },
  {
   "cell_type": "markdown",
   "id": "b415cda4",
   "metadata": {},
   "source": [
    "##### Predicting the Test set results"
   ]
  },
  {
   "cell_type": "code",
   "execution_count": 73,
   "id": "72627211",
   "metadata": {},
   "outputs": [],
   "source": [
    "Y_predLR=regressorLR.predict(X_test)\n"
   ]
  },
  {
   "cell_type": "markdown",
   "id": "12329fd4",
   "metadata": {},
   "source": [
    "##### Calculate the r-square means "
   ]
  },
  {
   "cell_type": "code",
   "execution_count": 74,
   "id": "fff559a7",
   "metadata": {},
   "outputs": [
    {
     "data": {
      "text/plain": [
       "0.4847383966849983"
      ]
     },
     "execution_count": 74,
     "metadata": {},
     "output_type": "execute_result"
    }
   ],
   "source": [
    "from sklearn.metrics import r2_score\n",
    "r2_scoreLR=r2_score(Y_test, Y_predLR)\n",
    "r2_scoreLR"
   ]
  },
  {
   "cell_type": "markdown",
   "id": "ec8d5aed",
   "metadata": {},
   "source": [
    "### Decision Tree Regression "
   ]
  },
  {
   "cell_type": "markdown",
   "id": "834518f1",
   "metadata": {},
   "source": [
    "##### Training the Decision Tree Regression model on the Training set"
   ]
  },
  {
   "cell_type": "code",
   "execution_count": 75,
   "id": "4573da03",
   "metadata": {},
   "outputs": [
    {
     "data": {
      "text/plain": [
       "DecisionTreeRegressor(random_state=0)"
      ]
     },
     "execution_count": 75,
     "metadata": {},
     "output_type": "execute_result"
    }
   ],
   "source": [
    "from sklearn.tree import DecisionTreeRegressor\n",
    "regressorDTR = DecisionTreeRegressor(random_state = 0)\n",
    "regressorDTR.fit(X_train, Y_train)"
   ]
  },
  {
   "cell_type": "markdown",
   "id": "bd204a02",
   "metadata": {},
   "source": [
    "##### Predicting the Test set results"
   ]
  },
  {
   "cell_type": "code",
   "execution_count": 76,
   "id": "bafd950f",
   "metadata": {},
   "outputs": [],
   "source": [
    "Y_predDTR = regressorDTR.predict(X_test)"
   ]
  },
  {
   "cell_type": "markdown",
   "id": "38258a84",
   "metadata": {},
   "source": [
    "##### Calculate the r-square means"
   ]
  },
  {
   "cell_type": "code",
   "execution_count": 77,
   "id": "060e74e4",
   "metadata": {},
   "outputs": [
    {
     "data": {
      "text/plain": [
       "0.6194710294286498"
      ]
     },
     "execution_count": 77,
     "metadata": {},
     "output_type": "execute_result"
    }
   ],
   "source": [
    "from sklearn.metrics import r2_score\n",
    "r2_scoreDTR=r2_score(Y_test, Y_predDTR)\n",
    "r2_scoreDTR"
   ]
  },
  {
   "cell_type": "markdown",
   "id": "8fc72789",
   "metadata": {},
   "source": [
    "### Random Forest Regression\n"
   ]
  },
  {
   "cell_type": "markdown",
   "id": "fbf21a0a",
   "metadata": {},
   "source": [
    "##### Training the Random Forest Regression model on the whole dataset"
   ]
  },
  {
   "cell_type": "code",
   "execution_count": 78,
   "id": "5b86a676",
   "metadata": {},
   "outputs": [
    {
     "data": {
      "text/plain": [
       "RandomForestRegressor(n_estimators=10, random_state=0)"
      ]
     },
     "execution_count": 78,
     "metadata": {},
     "output_type": "execute_result"
    }
   ],
   "source": [
    "from sklearn.ensemble import RandomForestRegressor\n",
    "regressorRFR = RandomForestRegressor(n_estimators = 10, random_state = 0)\n",
    "regressorRFR.fit(X_train, Y_train)"
   ]
  },
  {
   "cell_type": "markdown",
   "id": "34307d39",
   "metadata": {},
   "source": [
    "##### Predicting the Test set results"
   ]
  },
  {
   "cell_type": "code",
   "execution_count": 80,
   "id": "b6b0232e",
   "metadata": {},
   "outputs": [],
   "source": [
    "Y_predRFR = regressorRFR.predict(X_test)"
   ]
  },
  {
   "cell_type": "markdown",
   "id": "4230cd99",
   "metadata": {},
   "source": [
    "##### Calculate the r-square means"
   ]
  },
  {
   "cell_type": "code",
   "execution_count": 81,
   "id": "43f09028",
   "metadata": {},
   "outputs": [
    {
     "data": {
      "text/plain": [
       "0.7905659153401051"
      ]
     },
     "execution_count": 81,
     "metadata": {},
     "output_type": "execute_result"
    }
   ],
   "source": [
    "from sklearn.metrics import r2_score\n",
    "r2_scoreRFR=r2_score(Y_test, Y_predRFR)\n",
    "r2_scoreRFR"
   ]
  },
  {
   "cell_type": "markdown",
   "id": "7e04e238",
   "metadata": {},
   "source": [
    "### Support Vector Regression (SVR)"
   ]
  },
  {
   "cell_type": "markdown",
   "id": "1c4d6079",
   "metadata": {},
   "source": [
    "#### Feature Scaling"
   ]
  },
  {
   "cell_type": "code",
   "execution_count": null,
   "id": "5a483434",
   "metadata": {},
   "outputs": [],
   "source": [
    "from sklearn.preprocessing import StandardScaler\n",
    "sc_X = StandardScaler()\n",
    "sc_y = StandardScaler()\n",
    "X_train = sc_X.fit_transform(X_train)\n",
    "Y_train=Y_train.reshape(-1,1)\n",
    "Y_train = sc_y.fit_transform(Y_train)"
   ]
  },
  {
   "cell_type": "markdown",
   "id": "7a391291",
   "metadata": {},
   "source": [
    "##### Training the Support Vector Regression (SVR) model on the whole dataset"
   ]
  },
  {
   "cell_type": "code",
   "execution_count": 82,
   "id": "06504066",
   "metadata": {},
   "outputs": [
    {
     "data": {
      "text/plain": [
       "SVR()"
      ]
     },
     "execution_count": 82,
     "metadata": {},
     "output_type": "execute_result"
    }
   ],
   "source": [
    "from sklearn.svm import SVR\n",
    "regressorSVR = SVR(kernel = 'rbf')\n",
    "regressorSVR.fit(X_train, Y_train)"
   ]
  },
  {
   "cell_type": "markdown",
   "id": "eed3d348",
   "metadata": {},
   "source": [
    "##### Predicting the Test set results"
   ]
  },
  {
   "cell_type": "code",
   "execution_count": 86,
   "id": "b93cc20a",
   "metadata": {},
   "outputs": [],
   "source": [
    "y_predSVR =regressorSVR.predict(X_test)"
   ]
  },
  {
   "cell_type": "markdown",
   "id": "a3979e0f",
   "metadata": {},
   "source": [
    "##### Calculate the r-square means"
   ]
  },
  {
   "cell_type": "code",
   "execution_count": 89,
   "id": "acd7dcf5",
   "metadata": {},
   "outputs": [
    {
     "data": {
      "text/plain": [
       "-0.14885282307343783"
      ]
     },
     "execution_count": 89,
     "metadata": {},
     "output_type": "execute_result"
    }
   ],
   "source": [
    "from sklearn.metrics import r2_score\n",
    "r2_scoreSVR=r2_score(Y_test, y_predSVR)\n",
    "r2_scoreSVR"
   ]
  },
  {
   "cell_type": "code",
   "execution_count": 97,
   "id": "225861f8",
   "metadata": {},
   "outputs": [
    {
     "name": "stdout",
     "output_type": "stream",
     "text": [
      "r2_score value of linear Regression:0.4847383966849983\n",
      "r2_score value of Decision Tree Regression:0.6194710294286498\n",
      "r2_score value of Random Forest Regression:0.7905659153401051\n",
      "r2_score value ofSupport Vector Regression :-0.14885282307343783\n"
     ]
    }
   ],
   "source": [
    "print(f\"r2_score value of linear Regression:{r2_scoreLR}\\nr2_score value of Decision Tree Regression:{r2_scoreDTR}\\nr2_score value of Random Forest Regression:{r2_scoreRFR}\\nr2_score value ofSupport Vector Regression :{r2_scoreSVR}\" )"
   ]
  },
  {
   "cell_type": "markdown",
   "id": "e9601b79",
   "metadata": {},
   "source": [
    "Here, the random forest regression model will be the best model for prediction."
   ]
  },
  {
   "cell_type": "code",
   "execution_count": null,
   "id": "465760cd",
   "metadata": {},
   "outputs": [],
   "source": []
  }
 ],
 "metadata": {
  "kernelspec": {
   "display_name": "Python 3 (ipykernel)",
   "language": "python",
   "name": "python3"
  },
  "language_info": {
   "codemirror_mode": {
    "name": "ipython",
    "version": 3
   },
   "file_extension": ".py",
   "mimetype": "text/x-python",
   "name": "python",
   "nbconvert_exporter": "python",
   "pygments_lexer": "ipython3",
   "version": "3.9.13"
  }
 },
 "nbformat": 4,
 "nbformat_minor": 5
}
